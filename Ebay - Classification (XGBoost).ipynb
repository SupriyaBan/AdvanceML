{
 "cells": [
  {
   "cell_type": "markdown",
   "id": "9d06792a",
   "metadata": {},
   "source": [
    "## We have E-bay's auction data and we want to get the optimize the parameters for \"Win\""
   ]
  },
  {
   "cell_type": "markdown",
   "id": "95b6b850",
   "metadata": {},
   "source": [
    "Objective: To find the values of independent variables for which the probability of an auction win is maximum"
   ]
  },
  {
   "cell_type": "code",
   "execution_count": 1,
   "id": "3ebcd25a",
   "metadata": {},
   "outputs": [],
   "source": [
    "# Getting the packages\n",
    "\n",
    "import numpy as np\n",
    "import pandas as pd\n",
    "import matplotlib.pyplot as plt\n",
    "%matplotlib inline\n",
    "import os\n",
    "import seaborn as sns"
   ]
  },
  {
   "cell_type": "code",
   "execution_count": 2,
   "id": "d31a1083",
   "metadata": {},
   "outputs": [
    {
     "data": {
      "text/html": [
       "<div>\n",
       "<style scoped>\n",
       "    .dataframe tbody tr th:only-of-type {\n",
       "        vertical-align: middle;\n",
       "    }\n",
       "\n",
       "    .dataframe tbody tr th {\n",
       "        vertical-align: top;\n",
       "    }\n",
       "\n",
       "    .dataframe thead th {\n",
       "        text-align: right;\n",
       "    }\n",
       "</style>\n",
       "<table border=\"1\" class=\"dataframe\">\n",
       "  <thead>\n",
       "    <tr style=\"text-align: right;\">\n",
       "      <th></th>\n",
       "      <th>Status</th>\n",
       "      <th>Close Date</th>\n",
       "      <th>Closer Time</th>\n",
       "      <th>Avg Buy ($)</th>\n",
       "      <th>Avg Sell ($)</th>\n",
       "      <th>Packet Size</th>\n",
       "      <th>Side</th>\n",
       "      <th>Return ($)</th>\n",
       "      <th>Return %</th>\n",
       "      <th>eBay Commission ($)</th>\n",
       "      <th>...</th>\n",
       "      <th>Hold Time Bucket</th>\n",
       "      <th>Ticks</th>\n",
       "      <th>Net of TC ($)</th>\n",
       "      <th>Close Time Bucket</th>\n",
       "      <th>Open Time Bucket</th>\n",
       "      <th>Net of TC per Packet ($)</th>\n",
       "      <th>Unique Dates</th>\n",
       "      <th>Win Day?</th>\n",
       "      <th>Consecutive reps</th>\n",
       "      <th>Consecutive wins</th>\n",
       "    </tr>\n",
       "  </thead>\n",
       "  <tbody>\n",
       "    <tr>\n",
       "      <th>0</th>\n",
       "      <td>WIN</td>\n",
       "      <td>2022-10-10</td>\n",
       "      <td>09:16:57</td>\n",
       "      <td>357.75</td>\n",
       "      <td>364.0</td>\n",
       "      <td>100.0</td>\n",
       "      <td>CE</td>\n",
       "      <td>625.00</td>\n",
       "      <td>0.017470</td>\n",
       "      <td>108.0</td>\n",
       "      <td>...</td>\n",
       "      <td>00:00:00</td>\n",
       "      <td>6.25</td>\n",
       "      <td>517.00</td>\n",
       "      <td>09:00:00</td>\n",
       "      <td>09:00:00</td>\n",
       "      <td>129.25</td>\n",
       "      <td>2022-10-10</td>\n",
       "      <td>1.0</td>\n",
       "      <td>1.0</td>\n",
       "      <td>1.0</td>\n",
       "    </tr>\n",
       "    <tr>\n",
       "      <th>1</th>\n",
       "      <td>WIN</td>\n",
       "      <td>2022-10-10</td>\n",
       "      <td>09:19:28</td>\n",
       "      <td>335.35</td>\n",
       "      <td>342.3</td>\n",
       "      <td>25.0</td>\n",
       "      <td>CE</td>\n",
       "      <td>173.75</td>\n",
       "      <td>0.020725</td>\n",
       "      <td>64.0</td>\n",
       "      <td>...</td>\n",
       "      <td>00:00:00</td>\n",
       "      <td>6.95</td>\n",
       "      <td>109.75</td>\n",
       "      <td>09:00:00</td>\n",
       "      <td>09:00:00</td>\n",
       "      <td>109.75</td>\n",
       "      <td>2022-10-11</td>\n",
       "      <td>0.0</td>\n",
       "      <td>1.0</td>\n",
       "      <td>2.0</td>\n",
       "    </tr>\n",
       "    <tr>\n",
       "      <th>2</th>\n",
       "      <td>WIN</td>\n",
       "      <td>2022-10-10</td>\n",
       "      <td>09:22:16</td>\n",
       "      <td>334.90</td>\n",
       "      <td>350.0</td>\n",
       "      <td>25.0</td>\n",
       "      <td>CE</td>\n",
       "      <td>377.50</td>\n",
       "      <td>0.045088</td>\n",
       "      <td>64.0</td>\n",
       "      <td>...</td>\n",
       "      <td>00:00:00</td>\n",
       "      <td>15.10</td>\n",
       "      <td>313.50</td>\n",
       "      <td>09:00:00</td>\n",
       "      <td>09:00:00</td>\n",
       "      <td>313.50</td>\n",
       "      <td>2022-10-12</td>\n",
       "      <td>1.0</td>\n",
       "      <td>1.0</td>\n",
       "      <td>3.0</td>\n",
       "    </tr>\n",
       "    <tr>\n",
       "      <th>3</th>\n",
       "      <td>WIN</td>\n",
       "      <td>2022-10-10</td>\n",
       "      <td>09:20:37</td>\n",
       "      <td>316.40</td>\n",
       "      <td>323.0</td>\n",
       "      <td>25.0</td>\n",
       "      <td>CE</td>\n",
       "      <td>165.00</td>\n",
       "      <td>0.020860</td>\n",
       "      <td>64.0</td>\n",
       "      <td>...</td>\n",
       "      <td>00:00:00</td>\n",
       "      <td>6.60</td>\n",
       "      <td>101.00</td>\n",
       "      <td>09:00:00</td>\n",
       "      <td>09:00:00</td>\n",
       "      <td>101.00</td>\n",
       "      <td>2022-10-13</td>\n",
       "      <td>1.0</td>\n",
       "      <td>2.0</td>\n",
       "      <td>4.0</td>\n",
       "    </tr>\n",
       "    <tr>\n",
       "      <th>4</th>\n",
       "      <td>WIN</td>\n",
       "      <td>2022-10-10</td>\n",
       "      <td>09:21:31</td>\n",
       "      <td>311.35</td>\n",
       "      <td>317.0</td>\n",
       "      <td>25.0</td>\n",
       "      <td>CE</td>\n",
       "      <td>141.25</td>\n",
       "      <td>0.018147</td>\n",
       "      <td>64.0</td>\n",
       "      <td>...</td>\n",
       "      <td>00:00:00</td>\n",
       "      <td>5.65</td>\n",
       "      <td>77.25</td>\n",
       "      <td>09:00:00</td>\n",
       "      <td>09:00:00</td>\n",
       "      <td>77.25</td>\n",
       "      <td>2022-10-14</td>\n",
       "      <td>1.0</td>\n",
       "      <td>3.0</td>\n",
       "      <td>5.0</td>\n",
       "    </tr>\n",
       "    <tr>\n",
       "      <th>5</th>\n",
       "      <td>WIN</td>\n",
       "      <td>2022-10-10</td>\n",
       "      <td>09:26:12</td>\n",
       "      <td>371.20</td>\n",
       "      <td>384.5</td>\n",
       "      <td>25.0</td>\n",
       "      <td>CE</td>\n",
       "      <td>332.50</td>\n",
       "      <td>0.035830</td>\n",
       "      <td>64.0</td>\n",
       "      <td>...</td>\n",
       "      <td>00:00:00</td>\n",
       "      <td>13.30</td>\n",
       "      <td>268.50</td>\n",
       "      <td>09:00:00</td>\n",
       "      <td>09:00:00</td>\n",
       "      <td>268.50</td>\n",
       "      <td>2022-10-17</td>\n",
       "      <td>1.0</td>\n",
       "      <td>4.0</td>\n",
       "      <td>6.0</td>\n",
       "    </tr>\n",
       "    <tr>\n",
       "      <th>6</th>\n",
       "      <td>WIN</td>\n",
       "      <td>2022-10-10</td>\n",
       "      <td>09:37:08</td>\n",
       "      <td>391.20</td>\n",
       "      <td>396.0</td>\n",
       "      <td>25.0</td>\n",
       "      <td>CE</td>\n",
       "      <td>120.00</td>\n",
       "      <td>0.012270</td>\n",
       "      <td>64.0</td>\n",
       "      <td>...</td>\n",
       "      <td>00:00:00</td>\n",
       "      <td>4.80</td>\n",
       "      <td>56.00</td>\n",
       "      <td>09:00:00</td>\n",
       "      <td>09:00:00</td>\n",
       "      <td>56.00</td>\n",
       "      <td>2022-10-18</td>\n",
       "      <td>0.0</td>\n",
       "      <td>1.0</td>\n",
       "      <td>7.0</td>\n",
       "    </tr>\n",
       "    <tr>\n",
       "      <th>7</th>\n",
       "      <td>WIN</td>\n",
       "      <td>2022-10-10</td>\n",
       "      <td>09:36:26</td>\n",
       "      <td>381.50</td>\n",
       "      <td>385.3</td>\n",
       "      <td>25.0</td>\n",
       "      <td>CE</td>\n",
       "      <td>95.00</td>\n",
       "      <td>0.009961</td>\n",
       "      <td>64.0</td>\n",
       "      <td>...</td>\n",
       "      <td>00:00:00</td>\n",
       "      <td>3.80</td>\n",
       "      <td>31.00</td>\n",
       "      <td>09:00:00</td>\n",
       "      <td>09:00:00</td>\n",
       "      <td>31.00</td>\n",
       "      <td>2022-10-19</td>\n",
       "      <td>0.0</td>\n",
       "      <td>2.0</td>\n",
       "      <td>8.0</td>\n",
       "    </tr>\n",
       "    <tr>\n",
       "      <th>8</th>\n",
       "      <td>WIN</td>\n",
       "      <td>2022-10-10</td>\n",
       "      <td>09:36:42</td>\n",
       "      <td>366.60</td>\n",
       "      <td>388.1</td>\n",
       "      <td>25.0</td>\n",
       "      <td>CE</td>\n",
       "      <td>537.50</td>\n",
       "      <td>0.058647</td>\n",
       "      <td>64.0</td>\n",
       "      <td>...</td>\n",
       "      <td>00:00:00</td>\n",
       "      <td>21.50</td>\n",
       "      <td>473.50</td>\n",
       "      <td>09:00:00</td>\n",
       "      <td>09:00:00</td>\n",
       "      <td>473.50</td>\n",
       "      <td>2022-10-20</td>\n",
       "      <td>1.0</td>\n",
       "      <td>1.0</td>\n",
       "      <td>9.0</td>\n",
       "    </tr>\n",
       "    <tr>\n",
       "      <th>9</th>\n",
       "      <td>WIN</td>\n",
       "      <td>2022-10-10</td>\n",
       "      <td>09:36:26</td>\n",
       "      <td>373.25</td>\n",
       "      <td>385.3</td>\n",
       "      <td>25.0</td>\n",
       "      <td>CE</td>\n",
       "      <td>301.25</td>\n",
       "      <td>0.032284</td>\n",
       "      <td>64.0</td>\n",
       "      <td>...</td>\n",
       "      <td>00:00:00</td>\n",
       "      <td>12.05</td>\n",
       "      <td>237.25</td>\n",
       "      <td>09:00:00</td>\n",
       "      <td>09:00:00</td>\n",
       "      <td>237.25</td>\n",
       "      <td>2022-10-21</td>\n",
       "      <td>0.0</td>\n",
       "      <td>1.0</td>\n",
       "      <td>10.0</td>\n",
       "    </tr>\n",
       "  </tbody>\n",
       "</table>\n",
       "<p>10 rows × 25 columns</p>\n",
       "</div>"
      ],
      "text/plain": [
       "  Status Close Date Closer Time  Avg Buy ($)  Avg Sell ($)  Packet Size Side  \\\n",
       "0    WIN 2022-10-10    09:16:57       357.75         364.0        100.0   CE   \n",
       "1    WIN 2022-10-10    09:19:28       335.35         342.3         25.0   CE   \n",
       "2    WIN 2022-10-10    09:22:16       334.90         350.0         25.0   CE   \n",
       "3    WIN 2022-10-10    09:20:37       316.40         323.0         25.0   CE   \n",
       "4    WIN 2022-10-10    09:21:31       311.35         317.0         25.0   CE   \n",
       "5    WIN 2022-10-10    09:26:12       371.20         384.5         25.0   CE   \n",
       "6    WIN 2022-10-10    09:37:08       391.20         396.0         25.0   CE   \n",
       "7    WIN 2022-10-10    09:36:26       381.50         385.3         25.0   CE   \n",
       "8    WIN 2022-10-10    09:36:42       366.60         388.1         25.0   CE   \n",
       "9    WIN 2022-10-10    09:36:26       373.25         385.3         25.0   CE   \n",
       "\n",
       "   Return ($)  Return %  eBay Commission ($)  ... Hold Time Bucket  Ticks  \\\n",
       "0      625.00  0.017470                108.0  ...         00:00:00   6.25   \n",
       "1      173.75  0.020725                 64.0  ...         00:00:00   6.95   \n",
       "2      377.50  0.045088                 64.0  ...         00:00:00  15.10   \n",
       "3      165.00  0.020860                 64.0  ...         00:00:00   6.60   \n",
       "4      141.25  0.018147                 64.0  ...         00:00:00   5.65   \n",
       "5      332.50  0.035830                 64.0  ...         00:00:00  13.30   \n",
       "6      120.00  0.012270                 64.0  ...         00:00:00   4.80   \n",
       "7       95.00  0.009961                 64.0  ...         00:00:00   3.80   \n",
       "8      537.50  0.058647                 64.0  ...         00:00:00  21.50   \n",
       "9      301.25  0.032284                 64.0  ...         00:00:00  12.05   \n",
       "\n",
       "  Net of TC ($) Close Time Bucket  Open Time Bucket Net of TC per Packet ($)  \\\n",
       "0        517.00          09:00:00          09:00:00                   129.25   \n",
       "1        109.75          09:00:00          09:00:00                   109.75   \n",
       "2        313.50          09:00:00          09:00:00                   313.50   \n",
       "3        101.00          09:00:00          09:00:00                   101.00   \n",
       "4         77.25          09:00:00          09:00:00                    77.25   \n",
       "5        268.50          09:00:00          09:00:00                   268.50   \n",
       "6         56.00          09:00:00          09:00:00                    56.00   \n",
       "7         31.00          09:00:00          09:00:00                    31.00   \n",
       "8        473.50          09:00:00          09:00:00                   473.50   \n",
       "9        237.25          09:00:00          09:00:00                   237.25   \n",
       "\n",
       "   Unique Dates  Win Day? Consecutive reps Consecutive wins  \n",
       "0    2022-10-10       1.0              1.0              1.0  \n",
       "1    2022-10-11       0.0              1.0              2.0  \n",
       "2    2022-10-12       1.0              1.0              3.0  \n",
       "3    2022-10-13       1.0              2.0              4.0  \n",
       "4    2022-10-14       1.0              3.0              5.0  \n",
       "5    2022-10-17       1.0              4.0              6.0  \n",
       "6    2022-10-18       0.0              1.0              7.0  \n",
       "7    2022-10-19       0.0              2.0              8.0  \n",
       "8    2022-10-20       1.0              1.0              9.0  \n",
       "9    2022-10-21       0.0              1.0             10.0  \n",
       "\n",
       "[10 rows x 25 columns]"
      ]
     },
     "execution_count": 2,
     "metadata": {},
     "output_type": "execute_result"
    }
   ],
   "source": [
    "# Get the current working directory\n",
    "current_dir = os.getcwd()\n",
    "\n",
    "# Define the relative path to the dataset file\n",
    "dataset_path = os.path.join(current_dir, '10.10.2022.xlsx')\n",
    "df=pd.read_excel(dataset_path)\n",
    "df.head(10)"
   ]
  },
  {
   "cell_type": "code",
   "execution_count": 3,
   "id": "23ffc3f9",
   "metadata": {},
   "outputs": [
    {
     "data": {
      "text/html": [
       "<div>\n",
       "<style scoped>\n",
       "    .dataframe tbody tr th:only-of-type {\n",
       "        vertical-align: middle;\n",
       "    }\n",
       "\n",
       "    .dataframe tbody tr th {\n",
       "        vertical-align: top;\n",
       "    }\n",
       "\n",
       "    .dataframe thead th {\n",
       "        text-align: right;\n",
       "    }\n",
       "</style>\n",
       "<table border=\"1\" class=\"dataframe\">\n",
       "  <thead>\n",
       "    <tr style=\"text-align: right;\">\n",
       "      <th></th>\n",
       "      <th>Status</th>\n",
       "      <th>Packet Size</th>\n",
       "      <th>Side</th>\n",
       "      <th>Channel</th>\n",
       "      <th>Hold Time Bucket</th>\n",
       "    </tr>\n",
       "  </thead>\n",
       "  <tbody>\n",
       "    <tr>\n",
       "      <th>0</th>\n",
       "      <td>WIN</td>\n",
       "      <td>100.0</td>\n",
       "      <td>CE</td>\n",
       "      <td>Z</td>\n",
       "      <td>00:00:00</td>\n",
       "    </tr>\n",
       "    <tr>\n",
       "      <th>1</th>\n",
       "      <td>WIN</td>\n",
       "      <td>25.0</td>\n",
       "      <td>CE</td>\n",
       "      <td>Z</td>\n",
       "      <td>00:00:00</td>\n",
       "    </tr>\n",
       "    <tr>\n",
       "      <th>2</th>\n",
       "      <td>WIN</td>\n",
       "      <td>25.0</td>\n",
       "      <td>CE</td>\n",
       "      <td>Z</td>\n",
       "      <td>00:00:00</td>\n",
       "    </tr>\n",
       "    <tr>\n",
       "      <th>3</th>\n",
       "      <td>WIN</td>\n",
       "      <td>25.0</td>\n",
       "      <td>CE</td>\n",
       "      <td>Z</td>\n",
       "      <td>00:00:00</td>\n",
       "    </tr>\n",
       "    <tr>\n",
       "      <th>4</th>\n",
       "      <td>WIN</td>\n",
       "      <td>25.0</td>\n",
       "      <td>CE</td>\n",
       "      <td>Z</td>\n",
       "      <td>00:00:00</td>\n",
       "    </tr>\n",
       "  </tbody>\n",
       "</table>\n",
       "</div>"
      ],
      "text/plain": [
       "  Status  Packet Size Side Channel Hold Time Bucket\n",
       "0    WIN        100.0   CE       Z         00:00:00\n",
       "1    WIN         25.0   CE       Z         00:00:00\n",
       "2    WIN         25.0   CE       Z         00:00:00\n",
       "3    WIN         25.0   CE       Z         00:00:00\n",
       "4    WIN         25.0   CE       Z         00:00:00"
      ]
     },
     "execution_count": 3,
     "metadata": {},
     "output_type": "execute_result"
    }
   ],
   "source": [
    "# dropping all the derived/dependent variables\n",
    "df.drop([\"Unique Dates\",\"Win Day?\",\"Consecutive reps\",'Consecutive wins',\"Close Date\",\"Closer Time\",\"Auction Open Date\",\"Auction #\",\"Return %\",\"Auction Open Time\",\"Net of TC per Packet ($)\",'Avg Buy ($)', 'Avg Sell ($)', 'Return ($)', 'eBay Commission ($)','Ticks', 'Net of TC ($)','Close Time Bucket', 'Hold Time', 'Open Time Bucket'], axis=1, inplace=True)\n",
    "df.head()"
   ]
  },
  {
   "cell_type": "code",
   "execution_count": 4,
   "id": "a18529ee",
   "metadata": {},
   "outputs": [
    {
     "name": "stdout",
     "output_type": "stream",
     "text": [
      "(3265, 5)\n"
     ]
    }
   ],
   "source": [
    "print(df.shape)"
   ]
  },
  {
   "cell_type": "code",
   "execution_count": 5,
   "id": "a9d5ec5e",
   "metadata": {},
   "outputs": [],
   "source": [
    "# Convert 'WIN' and 'LOSS' in the 'Status' column to 1 and 0 (encoding)\n",
    "df['Status'] = df['Status'].map({'WIN': 1, 'LOSS': 0})"
   ]
  },
  {
   "cell_type": "code",
   "execution_count": 7,
   "id": "3ec6877a",
   "metadata": {},
   "outputs": [],
   "source": [
    "# Perform one-hot encoding on the categorical columns\n",
    "from sklearn.preprocessing import OneHotEncoder\n",
    "categorical_cols = ['Side', 'Channel', 'Hold Time Bucket']\n",
    "encoder = OneHotEncoder(sparse=False, handle_unknown='ignore')\n",
    "encoded_cols = pd.DataFrame(encoder.fit_transform(df[categorical_cols]))\n",
    "encoded_cols.columns = encoder.get_feature_names(categorical_cols)\n",
    "\n",
    "# Concatenate the encoded columns with the original DataFrame\n",
    "df_encoded = pd.concat([df.drop(categorical_cols, axis=1), encoded_cols], axis=1)"
   ]
  },
  {
   "cell_type": "code",
   "execution_count": 8,
   "id": "37ae1a1e",
   "metadata": {},
   "outputs": [
    {
     "data": {
      "text/plain": [
       "Status                       0\n",
       "Packet Size                  0\n",
       "Side_CE                      0\n",
       "Side_PE                      0\n",
       "Channel_K                    0\n",
       "                            ..\n",
       "Hold Time Bucket_04:55:00    0\n",
       "Hold Time Bucket_05:25:00    0\n",
       "Hold Time Bucket_05:27:30    0\n",
       "Hold Time Bucket_05:45:00    0\n",
       "Hold Time Bucket_05:47:30    0\n",
       "Length: 69, dtype: int64"
      ]
     },
     "execution_count": 8,
     "metadata": {},
     "output_type": "execute_result"
    }
   ],
   "source": [
    "# checking for nulls\n",
    "df_encoded.isnull().sum()"
   ]
  },
  {
   "cell_type": "code",
   "execution_count": 9,
   "id": "0f27f714",
   "metadata": {},
   "outputs": [
    {
     "data": {
      "text/plain": [
       "Status                        2\n",
       "Packet Size                  15\n",
       "Side_CE                       2\n",
       "Side_PE                       2\n",
       "Channel_K                     2\n",
       "                             ..\n",
       "Hold Time Bucket_04:55:00     2\n",
       "Hold Time Bucket_05:25:00     2\n",
       "Hold Time Bucket_05:27:30     2\n",
       "Hold Time Bucket_05:45:00     2\n",
       "Hold Time Bucket_05:47:30     2\n",
       "Length: 69, dtype: int64"
      ]
     },
     "execution_count": 9,
     "metadata": {},
     "output_type": "execute_result"
    }
   ],
   "source": [
    "# checking the data\n",
    "df_encoded.nunique()"
   ]
  },
  {
   "cell_type": "markdown",
   "id": "bce7350e",
   "metadata": {},
   "source": [
    "### EDA"
   ]
  },
  {
   "cell_type": "code",
   "execution_count": 10,
   "id": "a3461c3f",
   "metadata": {},
   "outputs": [],
   "source": [
    "df_win=df_encoded.loc[df[\"Status\"]==\"WIN\"]\n",
    "df_loss=df_encoded.loc[df[\"Status\"]==\"LOSS\"]"
   ]
  },
  {
   "cell_type": "code",
   "execution_count": 11,
   "id": "02047257",
   "metadata": {},
   "outputs": [
    {
     "data": {
      "image/png": "[encoded data removed]",
      "text/plain": [
       "<Figure size 402.375x360 with 1 Axes>"
      ]
     },
     "metadata": {
      "needs_background": "light"
     },
     "output_type": "display_data"
    }
   ],
   "source": [
    "# Plot distribution plot\n",
    "sns.displot(data=df, x='Channel', hue='Status', kde=True)\n",
    "\n",
    "# Add labels and title\n",
    "plt.xlabel('Channel')\n",
    "plt.ylabel('Count')\n",
    "plt.title('Distribution of Channel by Status')\n",
    "\n",
    "# Show the plot\n",
    "plt.show()"
   ]
  },
  {
   "cell_type": "code",
   "execution_count": 12,
   "id": "b2524d44",
   "metadata": {},
   "outputs": [
    {
     "data": {
      "image/png": "[encoded data removed]",
      "text/plain": [
       "<Figure size 402.375x360 with 1 Axes>"
      ]
     },
     "metadata": {
      "needs_background": "light"
     },
     "output_type": "display_data"
    }
   ],
   "source": [
    "\n",
    "sns.displot(data=df, x='Side', hue='Status', kde=True)\n",
    "\n",
    "# Add labels and title\n",
    "plt.xlabel('Side')\n",
    "plt.ylabel('Count')\n",
    "plt.title('Distribution of Side by Status')\n",
    "\n",
    "# Show the plot\n",
    "plt.show()"
   ]
  },
  {
   "cell_type": "code",
   "execution_count": 13,
   "id": "9e023f06",
   "metadata": {},
   "outputs": [
    {
     "data": {
      "image/png": "[encoded data removed]",
      "text/plain": [
       "<Figure size 402.375x360 with 1 Axes>"
      ]
     },
     "metadata": {
      "needs_background": "light"
     },
     "output_type": "display_data"
    }
   ],
   "source": [
    "# Plot distribution plot\n",
    "sns.displot(data=df, x='Packet Size', hue='Status', kde=True)\n",
    "\n",
    "# Add labels and title\n",
    "plt.xlabel('Packet Size')\n",
    "plt.ylabel('Count')\n",
    "plt.title('Distribution of Packet Size by Status')\n",
    "\n",
    "# Show the plot\n",
    "plt.show()"
   ]
  },
  {
   "cell_type": "markdown",
   "id": "a7a97324",
   "metadata": {},
   "source": [
    "# Model Fitting - Extreme Gradient Boost"
   ]
  },
  {
   "cell_type": "code",
   "execution_count": 14,
   "id": "8dcf5f94",
   "metadata": {},
   "outputs": [],
   "source": [
    "x= df_encoded.drop('Status', axis=1)\n",
    "y=df_encoded[\"Status\"]"
   ]
  },
  {
   "cell_type": "code",
   "execution_count": 15,
   "id": "bc3b86d3",
   "metadata": {},
   "outputs": [],
   "source": [
    "from sklearn.model_selection import train_test_split"
   ]
  },
  {
   "cell_type": "code",
   "execution_count": 16,
   "id": "a3db621f",
   "metadata": {},
   "outputs": [
    {
     "data": {
      "text/plain": [
       "array([1, 1, 1, 1, 1, 1, 1, 1, 1, 1, 1, 1, 1, 1, 1, 0, 1, 1, 1, 1, 1, 1,\n",
       "       1, 1, 1, 1, 1, 1, 1, 1, 1, 1, 1, 0, 1, 1, 1, 1, 1, 1, 1, 1, 1, 1,\n",
       "       1, 1, 1, 1, 1, 1, 1, 1, 0, 0, 1, 1, 1, 1, 0, 1, 1, 1, 1, 1, 1, 1,\n",
       "       1, 1, 1, 1, 1, 1, 1, 1, 1, 1, 0, 1, 1, 1, 1, 1, 1, 1, 1, 1, 1, 1,\n",
       "       1, 0, 1, 1, 1, 1, 1, 0, 0, 0, 1, 1, 1, 1, 1, 1, 1, 1, 1, 1, 1, 1,\n",
       "       0, 1, 1, 1, 1, 1, 1, 1, 1, 1, 1, 1, 1, 1, 1, 1, 1, 1, 1, 1, 0, 0,\n",
       "       1, 1, 1, 1, 1, 1, 1, 0, 0, 1, 1, 1, 1, 1, 1, 1, 1, 1, 1, 1, 1, 1,\n",
       "       1, 1, 1, 1, 1, 1, 1, 1, 1, 1, 1, 1, 1, 1, 1, 1, 1, 1, 1, 1, 1, 1,\n",
       "       1, 1, 1, 1, 1, 1, 1, 1, 1, 1, 1, 1, 1, 1, 1, 1, 1, 1, 1, 1, 1, 1,\n",
       "       1, 1, 1, 1, 0, 0, 1, 1, 1, 0, 1, 1, 1, 1, 1, 1, 1, 1, 1, 1, 1, 1,\n",
       "       0, 1, 1, 1, 1, 1, 1, 1, 1, 1, 1, 1, 1, 1, 1, 1, 1, 1, 1, 1, 0, 1,\n",
       "       1, 1, 1, 1, 0, 1, 1, 0, 1, 1, 1, 1, 1, 1, 1, 1, 1, 1, 0, 1, 1, 1,\n",
       "       1, 1, 1, 1, 0, 1, 1, 1, 1, 1, 0, 1, 1, 1, 1, 1, 1, 0, 1, 1, 1, 1,\n",
       "       0, 0, 0, 1, 1, 1, 1, 1, 1, 0, 1, 0, 1, 1, 1, 1, 1, 1, 1, 1, 0, 1,\n",
       "       1, 1, 1, 1, 1, 1, 1, 1, 1, 1, 1, 1, 1, 1, 1, 1, 1, 1, 1, 1, 1, 1,\n",
       "       1, 1, 1, 1, 1, 1, 1, 1, 1, 1, 0, 1, 1, 1, 1, 1, 1, 1, 1, 1, 1, 1,\n",
       "       1, 0, 1, 1, 1, 1, 1, 1, 1, 1, 1, 1, 1, 1, 1, 1, 1, 1, 1, 1, 1, 1,\n",
       "       1, 1, 1, 0, 1, 1, 1, 1, 1, 1, 0, 1, 1, 1, 1, 1, 1, 1, 1, 1, 1, 1,\n",
       "       1, 1, 1, 1, 1, 0, 1, 1, 1, 1, 0, 1, 1, 1, 1, 1, 0, 1, 0, 1, 1, 1,\n",
       "       0, 1, 1, 1, 1, 1, 1, 1, 1, 1, 1, 1, 1, 1, 1, 1, 1, 0, 1, 0, 1, 1,\n",
       "       1, 1, 1, 1, 1, 1, 1, 1, 1, 1, 1, 1, 1, 1, 1, 1, 1, 1, 1, 1, 1, 1,\n",
       "       1, 1, 0, 1, 1, 1, 1, 1, 1, 1, 1, 1, 1, 1, 1, 1, 1, 1, 0, 1, 1, 1,\n",
       "       1, 1, 0, 1, 1, 1, 1, 1, 1, 1, 1, 1, 0, 1, 1, 1, 1, 1, 1, 1, 1, 0,\n",
       "       1, 1, 1, 1, 1, 1, 0, 0, 0, 1, 1, 1, 1, 0, 0, 1, 1, 1, 1, 1, 1, 0,\n",
       "       1, 1, 1, 1, 1, 1, 0, 1, 1, 1, 1, 0, 1, 0, 1, 1, 1, 0, 0, 1, 1, 1,\n",
       "       1, 1, 1, 1, 0, 1, 1, 1, 1, 1, 1, 1, 1, 1, 1, 1, 1, 1, 1, 1, 1, 1,\n",
       "       1, 1, 1, 1, 1, 1, 1, 1, 1, 1, 1, 1, 1, 1, 1, 1, 1, 1, 1, 1, 1, 1,\n",
       "       1, 0, 1, 1, 1, 1, 1, 1, 0, 1, 1, 1, 1, 1, 1, 1, 1, 1, 1, 0, 1, 0,\n",
       "       1, 1, 0, 1, 1, 1, 1, 0, 1, 1, 0, 1, 1, 1, 1, 1, 1, 0, 1, 0, 1, 1,\n",
       "       1, 1, 1, 1, 1, 1, 1, 1, 1, 1, 0, 1, 1, 1, 1])"
      ]
     },
     "execution_count": 16,
     "metadata": {},
     "output_type": "execute_result"
    }
   ],
   "source": [
    "import xgboost as xgb\n",
    "X_train, X_test, y_train, y_test = train_test_split(x, y, test_size=0.2, random_state=42)\n",
    "\n",
    "# Create and train the XGBoost classifier\n",
    "classifier = xgb.XGBClassifier()\n",
    "classifier.fit(X_train, y_train)\n",
    "\n",
    "# Make predictions on the testing set\n",
    "predictions = classifier.predict(X_test)\n",
    "predictions"
   ]
  },
  {
   "cell_type": "code",
   "execution_count": 17,
   "id": "5c47a419",
   "metadata": {},
   "outputs": [
    {
     "name": "stdout",
     "output_type": "stream",
     "text": [
      "Precision: 0.9005145797598628\n",
      "Recall: 0.9341637010676157\n",
      "F1 Score: 0.9170305676855897\n",
      "ROC-AUC Score: 0.6484005318524892\n",
      "Accuracy: 0.8545176110260337\n"
     ]
    }
   ],
   "source": [
    "from sklearn.metrics import precision_score, recall_score, f1_score, roc_auc_score, accuracy_score\n",
    "\n",
    "# Calculate precision\n",
    "precision = precision_score(y_test, predictions)\n",
    "\n",
    "# Calculate recall\n",
    "recall = recall_score(y_test, predictions)\n",
    "\n",
    "# Calculate F1 score\n",
    "f1 = f1_score(y_test, predictions)\n",
    "\n",
    "# Calculate ROC-AUC score\n",
    "roc_auc = roc_auc_score(y_test, predictions)\n",
    "\n",
    "# Calculate accuracy\n",
    "accuracy = accuracy_score(y_test, predictions)\n",
    "\n",
    "print(\"Precision:\", precision)\n",
    "print(\"Recall:\", recall)\n",
    "print(\"F1 Score:\", f1)\n",
    "print(\"ROC-AUC Score:\", roc_auc)\n",
    "print(\"Accuracy:\", accuracy)"
   ]
  },
  {
   "cell_type": "markdown",
   "id": "00332128",
   "metadata": {},
   "source": [
    "## Checking the model"
   ]
  },
  {
   "cell_type": "code",
   "execution_count": 18,
   "id": "a22d3060",
   "metadata": {},
   "outputs": [
    {
     "name": "stdout",
     "output_type": "stream",
     "text": [
      "   Packet Size Side Channel Hold Time Bucket  Win Probability\n",
      "1           20   PE       K         00:02:30             0.54\n",
      "0           15   CE       J         00:00:00             0.52\n",
      "2           25   CE       K         00:05:00             0.51\n"
     ]
    }
   ],
   "source": [
    "import numpy as np\n",
    "\n",
    "# Create a sample data point with different combinations of values\n",
    "sample_data = pd.DataFrame({'Packet Size': [15, 20, 25],\n",
    "                            'Side': ['CE', 'PE', 'CE'],\n",
    "                            'Channel': ['J', 'K', 'K'],\n",
    "                            'Hold Time Bucket': ['00:00:00', '00:02:30', '00:05:00']})\n",
    "\n",
    "# Perform one-hot encoding on the categorical columns\n",
    "encoded_sample_data = pd.DataFrame(encoder.transform(sample_data[categorical_cols]))\n",
    "encoded_sample_data.columns = encoder.get_feature_names(categorical_cols)\n",
    "\n",
    "# Concatenate the encoded sample data with the original DataFrame\n",
    "sample_data_encoded = pd.concat([sample_data.drop(categorical_cols, axis=1), encoded_sample_data], axis=1)\n",
    "\n",
    "# Make predictions on the sample data\n",
    "predictions = classifier.predict_proba(sample_data_encoded)[:, 1]  # Probabilities of WIN (class 1)\n",
    "\n",
    "# Add the probabilities to the sample data\n",
    "sample_data['Win Probability'] = np.round(predictions, 2)\n",
    "\n",
    "# Sort the data by win probability in descending order\n",
    "sample_data_sorted = sample_data.sort_values(by='Win Probability', ascending=False)\n",
    "\n",
    "# Print the sorted data\n",
    "print(sample_data_sorted)\n"
   ]
  },
  {
   "cell_type": "markdown",
   "id": "9ad52096",
   "metadata": {},
   "source": [
    "## Results"
   ]
  },
  {
   "cell_type": "code",
   "execution_count": 19,
   "id": "249a35c3",
   "metadata": {},
   "outputs": [
    {
     "name": "stdout",
     "output_type": "stream",
     "text": [
      "Side  Channel  Hold Time Bucket  Packet Size\n",
      "CE    Z        00:00:00          250.0          0.992988\n",
      "PE    Z        00:00:00          250.0          0.985708\n",
      "CE    Z        00:00:00          200.0          0.982320\n",
      "PE    Z        00:00:00          75.0           0.982064\n",
      "CE    Z        00:00:00          75.0           0.981490\n",
      "                                                  ...   \n",
      "PE    Z        01:05:00          900.0          0.031597\n",
      "               00:05:00          500.0          0.025685\n",
      "               00:07:30          500.0          0.020525\n",
      "      K        00:27:30          125.0          0.008783\n",
      "               00:47:30          125.0          0.008255\n",
      "Name: Win Probability, Length: 349, dtype: float32\n"
     ]
    }
   ],
   "source": [
    "# Make predictions on the data to get win probabilities\n",
    "win_probabilities = classifier.predict_proba(x)[:, 1]\n",
    "\n",
    "# Add the win probabilities to the dataframe\n",
    "df['Win Probability'] = win_probabilities\n",
    "\n",
    "# Group the data by the categorical variables and calculate the average win probability\n",
    "win_probabilities = df.groupby(['Side', 'Channel', 'Hold Time Bucket', 'Packet Size'])['Win Probability'].mean()\n",
    "\n",
    "# Sort the win probabilities in descending order\n",
    "win_probabilities = win_probabilities.sort_values(ascending=False)\n",
    "\n",
    "# Print the combinations with the highest win probabilities\n",
    "print(win_probabilities)"
   ]
  },
  {
   "cell_type": "code",
   "execution_count": null,
   "id": "d6336c66",
   "metadata": {},
   "outputs": [],
   "source": []
  }
 ],
 "metadata": {
  "kernelspec": {
   "display_name": "Python 3 (ipykernel)",
   "language": "python",
   "name": "python3"
  },
  "language_info": {
   "codemirror_mode": {
    "name": "ipython",
    "version": 3
   },
   "file_extension": ".py",
   "mimetype": "text/x-python",
   "name": "python",
   "nbconvert_exporter": "python",
   "pygments_lexer": "ipython3",
   "version": "3.9.7"
  }
 },
 "nbformat": 4,
 "nbformat_minor": 5
}
